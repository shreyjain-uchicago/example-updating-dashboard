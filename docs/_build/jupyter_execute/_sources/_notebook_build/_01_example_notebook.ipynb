{
 "cells": [
  {
   "cell_type": "markdown",
   "metadata": {},
   "source": [
    "# Example Notebook\n",
    "\n",
    "This notebook is designed demonstrate a number of goals:\n",
    "\n",
    "  - The notebook is part of the automated analytical pipeline, as it is run programmatically by the build system, as in the dodo.py file.\n",
    "  - It is tracked by version control via Git. To avoid large files and the problems associated with non-text files, the notebook is stripped of its output. \n",
    "  - In order to avoid re-running the notebook every time it changes (it changes often, even by the act of opening it) and to only rerun it if meaningful changes have been made, the build system only looks for changes in the plaintext version of the notebook. That is, the notebook is converted to a Python script via [nbconvert](https://nbconvert.readthedocs.io/en/latest/), which is often packaged with Jupyter.\n",
    "  Then, DoIt looks for changes to the Python version. If it detects a difference, then the notebook is re-run. (Note, that you could also convert to a Markdown file with \n",
    "  [JupyText](https://github.com/mwouts/jupytext). However, this package is often not packaged with Jupyter.)\n",
    "  - Since we want to use Jupyter Notebooks for exploratory reports, we want to keep fully-computed versions of the notebook (with the output intact). However, earlier I said that I strip the notebook of its output before committing to version control. Well, to keep the output, every time PyDoit runs the notebook, it outputs an HTML version of the freshly run notebook and saves that HTML report in the `output` directory. That way, you will be able to view the finished report at any time without having to open Jupyter."
   ]
  },
  {
   "cell_type": "code",
   "execution_count": 1,
   "metadata": {
    "execution": {
     "iopub.execute_input": "2024-03-14T10:01:49.119199Z",
     "iopub.status.busy": "2024-03-14T10:01:49.118647Z",
     "iopub.status.idle": "2024-03-14T10:01:49.125888Z",
     "shell.execute_reply": "2024-03-14T10:01:49.125395Z"
    }
   },
   "outputs": [],
   "source": [
    "import config\n",
    "from pathlib import Path\n",
    "OUTPUT_DIR = Path(config.OUTPUT_DIR)"
   ]
  },
  {
   "cell_type": "code",
   "execution_count": 2,
   "metadata": {
    "execution": {
     "iopub.execute_input": "2024-03-14T10:01:49.128074Z",
     "iopub.status.busy": "2024-03-14T10:01:49.127897Z",
     "iopub.status.idle": "2024-03-14T10:01:49.905230Z",
     "shell.execute_reply": "2024-03-14T10:01:49.904594Z"
    }
   },
   "outputs": [],
   "source": [
    "import numpy as np\n",
    "from matplotlib import pyplot as plt"
   ]
  },
  {
   "cell_type": "code",
   "execution_count": 3,
   "metadata": {
    "execution": {
     "iopub.execute_input": "2024-03-14T10:01:49.908378Z",
     "iopub.status.busy": "2024-03-14T10:01:49.907927Z",
     "iopub.status.idle": "2024-03-14T10:01:50.073980Z",
     "shell.execute_reply": "2024-03-14T10:01:50.073329Z"
    }
   },
   "outputs": [
    {
     "data": {
      "image/png": "[encoded data removed]",
      "text/plain": [
       "<Figure size 640x480 with 1 Axes>"
      ]
     },
     "metadata": {},
     "output_type": "display_data"
    }
   ],
   "source": [
    "x = np.linspace(0, 8 * np.pi, 1000)\n",
    "y = np.exp(x)\n",
    "plt.plot(x, y)\n",
    "filepath = Path(OUTPUT_DIR) / 'exp_graph.png'\n",
    "plt.savefig(filepath)"
   ]
  },
  {
   "cell_type": "code",
   "execution_count": null,
   "metadata": {},
   "outputs": [],
   "source": []
  }
 ],
 "metadata": {
  "language_info": {
   "codemirror_mode": {
    "name": "ipython",
    "version": 3
   },
   "file_extension": ".py",
   "mimetype": "text/x-python",
   "name": "python",
   "nbconvert_exporter": "python",
   "pygments_lexer": "ipython3",
   "version": "3.10.13"
  }
 },
 "nbformat": 4,
 "nbformat_minor": 2
}